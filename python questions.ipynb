{
 "cells": [
  {
   "cell_type": "code",
   "execution_count": 1,
   "id": "bafe99f0",
   "metadata": {},
   "outputs": [
    {
     "name": "stdout",
     "output_type": "stream",
     "text": [
      "value of number 1= 330\n",
      "value of number 2= 230\n"
     ]
    }
   ],
   "source": [
    "number1=230\n",
    "number2=330\n",
    "\n",
    "print(\"value of number 1=\",number2)\n",
    "print(\"value of number 2=\",number1)"
   ]
  },
  {
   "cell_type": "code",
   "execution_count": 6,
   "id": "8cdaef47",
   "metadata": {},
   "outputs": [
    {
     "name": "stdout",
     "output_type": "stream",
     "text": [
      "Enter year:2012\n",
      "Its a leap year\n"
     ]
    }
   ],
   "source": [
    "year=int(input(\"Enter year:\"))\n",
    "\n",
    "if year%4==0 and year%100!=0:\n",
    "    print(\"Its a leap year\")\n",
    "else:\n",
    "        print(\"Its not a leap year\")\n",
    "\n"
   ]
  },
  {
   "cell_type": "code",
   "execution_count": 22,
   "id": "d24514cf",
   "metadata": {},
   "outputs": [
    {
     "name": "stdout",
     "output_type": "stream",
     "text": [
      "Enter the number2\n",
      "2\n"
     ]
    }
   ],
   "source": [
    "number=int(input(\"Enter the number\"))\n",
    "sum=0\n",
    "if number>0:\n",
    "    sum+=number\n",
    "    number-=1\n",
    "    print(sum)"
   ]
  },
  {
   "cell_type": "code",
   "execution_count": 24,
   "id": "ab5791be",
   "metadata": {},
   "outputs": [
    {
     "name": "stdout",
     "output_type": "stream",
     "text": [
      "Enter the value of n: 2\n",
      "Sum of first natural numbers is:  2\n",
      "Sum of first natural numbers is:  3\n"
     ]
    }
   ],
   "source": [
    "num = int(input(\"Enter the value of n: \"))\n",
    "sum = 0\n",
    "\n",
    "if num <= 0: \n",
    "   print(\"Enter a whole positive number!\") \n",
    "else: \n",
    "   while num > 0:\n",
    "        sum = sum + num\n",
    "        num = num - 1;\n",
    "        print(\"Sum of first\",\"natural numbers is: \", sum)"
   ]
  },
  {
   "cell_type": "code",
   "execution_count": 24,
   "id": "2cc003d5",
   "metadata": {},
   "outputs": [
    {
     "name": "stdout",
     "output_type": "stream",
     "text": [
      "how many numbers5\n",
      "fibonacii upto n terms 5\n",
      "0\n",
      "0\n",
      "1\n",
      "1\n",
      "2\n",
      "3\n"
     ]
    }
   ],
   "source": [
    "alpha=int(input(\"how many numbers\"))\n",
    "a=0\n",
    "b=1\n",
    "num=0\n",
    "if num < 0:\n",
    "     print(\"Incorrect input\")\n",
    "elif num == 0:\n",
    "    print(\"fibonacii upto n terms\",alpha)\n",
    "    print(a)\n",
    "    while num<alpha:\n",
    "        print(a)\n",
    "        c=a+b\n",
    "        a=b\n",
    "        b=c\n",
    "        num+=1\n",
    "    "
   ]
  },
  {
   "cell_type": "code",
   "execution_count": 17,
   "id": "a315b437",
   "metadata": {},
   "outputs": [
    {
     "name": "stdout",
     "output_type": "stream",
     "text": [
      "330\n",
      "230\n"
     ]
    }
   ],
   "source": [
    "number1=230\n",
    "number2=428\n",
    "number1=number1^number2\n",
    "number2=number1^number2\n",
    "print(number1)\n",
    "print(number2)"
   ]
  },
  {
   "cell_type": "code",
   "execution_count": 5,
   "id": "94a3ddc8",
   "metadata": {},
   "outputs": [
    {
     "name": "stdout",
     "output_type": "stream",
     "text": [
      "Value of x: 2\n",
      "Value of y: 1\n"
     ]
    }
   ],
   "source": [
    "x = 1\n",
    "y = 2\n",
    "x = x ^ y\n",
    "y = x ^ y\n",
    "x = x ^ y\n",
    " \n",
    "print(\"Value of x:\", x)\n",
    "print(\"Value of y:\", y)"
   ]
  },
  {
   "cell_type": "code",
   "execution_count": 1,
   "id": "1a22f2df",
   "metadata": {},
   "outputs": [
    {
     "name": "stdout",
     "output_type": "stream",
     "text": [
      "Enter a number:12\n",
      "even\n"
     ]
    }
   ],
   "source": [
    "num = int(input(\"Enter a number:\"))\n",
    "if (num % 2) == 0:\n",
    "    print(\"even\")\n",
    "else:\n",
    "    print(\"odd\")"
   ]
  },
  {
   "cell_type": "code",
   "execution_count": null,
   "id": "6865eccc",
   "metadata": {},
   "outputs": [],
   "source": []
  }
 ],
 "metadata": {
  "kernelspec": {
   "display_name": "Python 3",
   "language": "python",
   "name": "python3"
  },
  "language_info": {
   "codemirror_mode": {
    "name": "ipython",
    "version": 3
   },
   "file_extension": ".py",
   "mimetype": "text/x-python",
   "name": "python",
   "nbconvert_exporter": "python",
   "pygments_lexer": "ipython3",
   "version": "3.8.8"
  }
 },
 "nbformat": 4,
 "nbformat_minor": 5
}
